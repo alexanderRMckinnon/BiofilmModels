{
 "cells": [
  {
   "cell_type": "markdown",
   "id": "21c4016b-8b77-449c-8421-7456c596b760",
   "metadata": {},
   "source": [
    "# Modelling basic reactions, from diffusion kinetics to Turing Patterns"
   ]
  },
  {
   "cell_type": "markdown",
   "id": "e7cf4192-4d15-4ac7-bec0-e13461a91e18",
   "metadata": {},
   "source": [
    "This first chapter will cover the basics of modelling, starting with a diffusion simulation in 1-dimension, and concluding with a turing pattern simulation in 2-dimensioins."
   ]
  },
  {
   "cell_type": "markdown",
   "id": "2b7e9ca2-3d31-421d-ba67-e09bb66d43f0",
   "metadata": {},
   "source": [
    "## 1D Diffusion\n",
    "Diffusion reactions (and many other naturally occuring physical processes) are governed by the laplacian operator:\n",
    "$$ \\frac{\\partial x}{\\partial t} = \\Delta x$$\n",
    "The relative rate of change of $x$ with respect to time is equal to "
   ]
  },
  {
   "cell_type": "code",
   "execution_count": null,
   "id": "6940ac89-3d67-4576-9d46-6c80f9209d7a",
   "metadata": {},
   "outputs": [],
   "source": []
  },
  {
   "cell_type": "code",
   "execution_count": 1,
   "id": "fa794b4a-4d10-4fdd-b384-58e75a0514a9",
   "metadata": {},
   "outputs": [
    {
     "ename": "SyntaxError",
     "evalue": "invalid syntax (sim_lib.py, line 1)",
     "output_type": "error",
     "traceback": [
      "Traceback \u001b[1;36m(most recent call last)\u001b[0m:\n",
      "  File \u001b[0;32m\"C:\\Users\\alexander.mckinnon\\Anaconda3\\lib\\site-packages\\IPython\\core\\interactiveshell.py\"\u001b[0m, line \u001b[0;32m3441\u001b[0m, in \u001b[0;35mrun_code\u001b[0m\n    exec(code_obj, self.user_global_ns, self.user_ns)\n",
      "\u001b[1;36m  File \u001b[1;32m\"C:\\Users\\ALEXAN~1.MCK\\AppData\\Local\\Temp/ipykernel_52764/3794230522.py\"\u001b[1;36m, line \u001b[1;32m2\u001b[1;36m, in \u001b[1;35m<module>\u001b[1;36m\u001b[0m\n\u001b[1;33m    from sim_lib import *\u001b[0m\n",
      "\u001b[1;36m  File \u001b[1;32m\"C:\\git_stuff\\BiofilmModels\\sim_lib.py\"\u001b[1;36m, line \u001b[1;32m1\u001b[0m\n\u001b[1;33m    <<<<<<< HEAD\u001b[0m\n\u001b[1;37m    ^\u001b[0m\n\u001b[1;31mSyntaxError\u001b[0m\u001b[1;31m:\u001b[0m invalid syntax\n"
     ]
    }
   ],
   "source": [
    "import numpy as np\n",
    "from sim_lib import *"
   ]
  },
  {
   "cell_type": "code",
   "execution_count": null,
   "id": "e39274e2-e314-411f-aab6-7b4f804411e5",
   "metadata": {
    "tags": []
   },
   "outputs": [],
   "source": [
    "sim = OneDimDiffusion()\n",
    "# sim.gif_simulation()\n",
    "# # sim.get_equation()\n",
    "sim.line_plot_simulation()\n",
    "sim.histogram_simulation()"
   ]
  },
  {
   "cell_type": "code",
   "execution_count": null,
   "id": "0467aa98-3fdf-42f4-880f-e4faf5aa600e",
   "metadata": {
    "tags": []
   },
   "outputs": [],
   "source": [
    "sim = TemporalFitzHuNagReaction()\n",
    "sim.gif_simulation()"
   ]
  },
  {
   "cell_type": "code",
   "execution_count": null,
   "id": "49c53bbc-e65f-401a-92c3-333bfa995cd4",
   "metadata": {
    "tags": []
   },
   "outputs": [],
   "source": [
    "sim = OneDimFitzHuNagReaction()\n",
    "sim.gif_simulation()"
   ]
  },
  {
   "cell_type": "code",
   "execution_count": null,
   "id": "35989d9e-7400-4453-817b-b54d66c2fab1",
   "metadata": {},
   "outputs": [],
   "source": [
    "sim = TwoDimFitzHuNagReaction()\n",
    "sim.gif_simulation()"
   ]
  },
  {
   "cell_type": "code",
   "execution_count": null,
   "id": "1e5e6f5a-8045-4378-a5f1-b42cbafb8d5b",
   "metadata": {
    "tags": []
   },
   "outputs": [],
   "source": [
    "# sim = ExtendedTwoDimFitzHuNagReaction(2)\n",
    "# sim.gif_simulation()\n",
    "# sim = ExtendedTwoDimFitzHuNagReaction(3)\n",
    "# sim.gif_simulation()\n",
    "# sim = ExtendedTwoDimFitzHuNagReaction(6)\n",
    "# sim.gif_simulation()\n",
    "# sim = ExtendedTwoDimFitzHuNagReaction(7)\n",
    "# sim.gif_simulation()"
   ]
  },
  {
   "cell_type": "code",
   "execution_count": null,
   "id": "41f2c4e8-7f4f-42f3-a6b1-9cffabbfa81b",
   "metadata": {},
   "outputs": [],
   "source": []
  }
 ],
 "metadata": {
  "kernelspec": {
   "display_name": "Python 3 (ipykernel)",
   "language": "python",
   "name": "python3"
  },
  "language_info": {
   "codemirror_mode": {
    "name": "ipython",
    "version": 3
   },
   "file_extension": ".py",
   "mimetype": "text/x-python",
   "name": "python",
   "nbconvert_exporter": "python",
   "pygments_lexer": "ipython3",
   "version": "3.8.8"
  }
 },
 "nbformat": 4,
 "nbformat_minor": 5
}
