{
 "cells": [
  {
   "cell_type": "markdown",
   "id": "6fbe6b24-99c8-4999-8f97-896f56a3a0ca",
   "metadata": {},
   "source": [
    "# Collection of Biofilm Models"
   ]
  },
  {
   "cell_type": "markdown",
   "id": "b0f7cfdd-450f-4678-8a32-ba2bce704864",
   "metadata": {},
   "source": [
    "Overview:\n",
    " - [**Model 0:** Modelling basic reactions, from diffusion kinetics to Turing Patterns](Model_0.ipynb)\n",
    " - [**Model 1:** Modelling cell-death patterning during biofilm formation](Model_1.ipynb)"
   ]
  },
  {
   "cell_type": "code",
   "execution_count": null,
   "id": "7dcd4278-e60d-4fdd-8076-e1e2e311f2dd",
   "metadata": {},
   "outputs": [],
   "source": [
    "class "
   ]
  }
 ],
 "metadata": {
  "kernelspec": {
   "display_name": "Python 3 (ipykernel)",
   "language": "python",
   "name": "python3"
  },
  "language_info": {
   "codemirror_mode": {
    "name": "ipython",
    "version": 3
   },
   "file_extension": ".py",
   "mimetype": "text/x-python",
   "name": "python",
   "nbconvert_exporter": "python",
   "pygments_lexer": "ipython3",
   "version": "3.8.8"
  }
 },
 "nbformat": 4,
 "nbformat_minor": 5
}
