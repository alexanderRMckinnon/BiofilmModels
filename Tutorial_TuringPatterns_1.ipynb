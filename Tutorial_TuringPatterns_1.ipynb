{
 "cells": [
  {
   "cell_type": "markdown",
   "id": "e9c0cb37-d357-4771-afe2-07d06d230fdf",
   "metadata": {},
   "source": [
    "This notebook is recreating a [tutorial](https://ipython-books.github.io/124-simulating-a-partial-differential-equation-reaction-diffusion-systems-and-turing-patterns/) that describes how to solve PDE's, specifically turing PDE's. This method doesn't use sympy or any other function library for DE solving."
   ]
  },
  {
   "cell_type": "code",
   "execution_count": null,
   "id": "f1a76820-a24a-473d-bb80-7fa10310514c",
   "metadata": {},
   "outputs": [],
   "source": [
    "import numpy as np\n",
    "import matplotlib.pyplot as plt"
   ]
  },
  {
   "cell_type": "markdown",
   "id": "672dfa45-02ca-49f5-b5c9-dd1c394d7663",
   "metadata": {},
   "source": [
    "We are going to simulate the following PDE's in the domain $E=[-1,1]^2$.\n",
    "\\begin{align}\n",
    "    \\frac{\\partial u}{\\partial t} =& a \\Delta u + u - u^3 - v + k \\\\\n",
    "    \\tau \\frac{\\partial v}{\\partial t} =& b \\Delta v + u - v \\\\\n",
    "\\end{align}\n",
    "This PDE system was originally created to model [neuron activation](https://en.wikipedia.org/wiki/FitzHugh%E2%80%93Nagumo_model) where $u,w$ would represent voltage and current respectivley.\n",
    "- *When voltage $u$ surpassed a threshold, the neuron would depolarise causing current $w$ to increase and voltage to decrease. When completley depolarised, the current would decrease and the voltage could build up again. This would keep repeating.*\n",
    "In this model, $u$ is a pigmenting molecule and $v$ is an inhibitory molecule.\n",
    "\n",
    "Starting off the parameters of the model are defined."
   ]
  },
  {
   "cell_type": "code",
   "execution_count": null,
   "id": "ef858c79-3d10-4932-a708-74ccb2a1d78b",
   "metadata": {},
   "outputs": [],
   "source": [
    "a = 2.8e-4\n",
    "b = 5e-3\n",
    "tau = .1\n",
    "k = -.005"
   ]
  },
  {
   "cell_type": "markdown",
   "id": "7e6f5d74-1a88-4007-ad81-100c48fb69ea",
   "metadata": {},
   "source": [
    "Then define the parameters of the simulation."
   ]
  },
  {
   "cell_type": "code",
   "execution_count": null,
   "id": "9199aefd-3308-4e58-985e-e834a0b459dd",
   "metadata": {},
   "outputs": [],
   "source": [
    "size = 50 # The size of the 2D grid\n",
    "dx = 2./size # space step?\n",
    "T = 9.0 # Total time\n",
    "dt = 0.001 # time step\n",
    "n = int(T/dt) # number of iterations"
   ]
  },
  {
   "cell_type": "markdown",
   "id": "45ec1df8-557d-4595-8936-81d20767a019",
   "metadata": {},
   "source": [
    "Each point of the grid will be initialised with a random value between 0 and 1."
   ]
  },
  {
   "cell_type": "code",
   "execution_count": null,
   "id": "6f82c41d-3e77-41a0-a36e-c5aa719766c1",
   "metadata": {},
   "outputs": [],
   "source": [
    "U = np.random.rand(size, size)\n",
    "V = np.random.rand(size, size)"
   ]
  },
  {
   "cell_type": "markdown",
   "id": "f1241f8d-8646-4757-8545-0bf6592b2af3",
   "metadata": {},
   "source": [
    "The PDE system described uses the [Laplacian operator](https://en.wikipedia.org/wiki/Discrete_Laplace_operator#Finite_differences) ($\\Delta$) which can be approximated to the discrete function:\n",
    "\\begin{equation}\n",
    "    \\Delta u(x,y) \\simeq \\frac{u(x+h,y) + u(x-h,y) + u(x,y+h) + u(x,y-h) -4u(x,y)}{dx^2}\n",
    "\\end{equation}"
   ]
  },
  {
   "cell_type": "code",
   "execution_count": null,
   "id": "81c553b9-20cc-44a3-acc2-ea1c028cb181",
   "metadata": {},
   "outputs": [],
   "source": [
    "def laplacian(Z):\n",
    "    Ztop    = Z[0:-2, 1:-1]\n",
    "    Zbottom = Z[2:,  1:-1]\n",
    "    Zright  = Z[1:-1, 0:-2]\n",
    "    Zleft   = Z[1:-1,  2:]\n",
    "    Zcentre = Z[1:-1, 1:-1]\n",
    "    return (Ztop + Zbottom + Zright + Zleft - 4*Zcentre)/(dx**2)"
   ]
  },
  {
   "cell_type": "markdown",
   "id": "cdebb7e5-5d08-45ee-aa97-a74df5febc6e",
   "metadata": {},
   "source": [
    "Create a function for displaying the matrix."
   ]
  },
  {
   "cell_type": "code",
   "execution_count": null,
   "id": "90b7fe3f-4af7-4970-96b6-c8e1a3831f2a",
   "metadata": {},
   "outputs": [],
   "source": [
    "def show_patterns(U, ax=None):\n",
    "    ax.imshow(U, cmap=plt.cm.cividis, extent=[-1,1,-1,1])\n",
    "    ax.set_axis_off()"
   ]
  },
  {
   "cell_type": "markdown",
   "id": "493f4e85-5de7-4a8d-b113-42981e97ff5f",
   "metadata": {},
   "source": [
    "Now the simulation."
   ]
  },
  {
   "cell_type": "code",
   "execution_count": null,
   "id": "be1cd09d-462f-48c6-8dfa-c2a2a61235ad",
   "metadata": {},
   "outputs": [],
   "source": [
    "fig, axs = plt.subplots(3,3, figsize=(8,8))\n",
    "step_plot = n//9\n",
    "\n",
    "# Loop through for n iterations\n",
    "for i in range(n):\n",
    "    # Calculate the laplacian of U and V\n",
    "    deltaU = laplacian(U)\n",
    "    deltaV = laplacian(V)\n",
    "    \n",
    "    # Everything but the edges are simulated\n",
    "    Uc = U[1:-1, 1:-1]\n",
    "    Vc = V[1:-1, 1:-1]\n",
    "    \n",
    "    # dx/dt = (x(t+dt) - x(t))/dt   =>   x(t+dt) = x(t) + dt*(dx/dt)\n",
    "    U[1:-1, 1:-1] = Uc + dt*(a*deltaU + Uc - Uc**3 - Vc + k)\n",
    "    V[1:-1, 1:-1] = Vc + dt*(b*deltaV + Uc - Vc)/tau\n",
    "\n",
    "    # Assign edge values to the adjacent pixel towards the centre\n",
    "    for Z in (U,V):\n",
    "        Z[0,:]  = Z[1 ,: ]\n",
    "        Z[-1,:] = Z[-2,: ]\n",
    "        Z[:,0]  = Z[: ,1 ]\n",
    "        Z[:,-1] = Z[: ,-1]\n",
    "    \n",
    "    # Plot\n",
    "    if i % step_plot==0 and i<9*step_plot:\n",
    "        ax = axs.flat[i//step_plot]\n",
    "        show_patterns(U,ax=ax)\n",
    "        ax.set_title(f'$t={i*dt:.2f}$')"
   ]
  },
  {
   "cell_type": "markdown",
   "id": "b561859e-a8f8-4a0c-b596-573031ae9b9e",
   "metadata": {},
   "source": [
    "This tutorial implemeted Neumann boundary conditions, which impose that the boundary values are the same as the values adjacent to the boundary. However, below is the same simulation with periodic boundary conditions, this imposes that each edge is a portal to the oppoisite edge. The boundaries are simulated as the same as every other position."
   ]
  },
  {
   "cell_type": "code",
   "execution_count": null,
   "id": "965aed74-e215-4d8e-aa25-f430205eadea",
   "metadata": {
    "tags": []
   },
   "outputs": [],
   "source": [
    "import numpy as np\n",
    "import matplotlib.pyplot as plt\n",
    "#\n",
    "\n",
    "\n",
    "a = 2.8e-4\n",
    "b = 5e-3\n",
    "tau = .1\n",
    "k = -.005\n",
    "\n",
    "#\n",
    "size = 50 # The size of the 2D grid\n",
    "dx = 2./size # space step?\n",
    "T = 9.0 # Total time\n",
    "dt = 0.0001# time step\n",
    "n = int(T/dt) # number of iterations\n",
    "#\n",
    "U = np.random.rand(size, size)\n",
    "V = np.random.rand(size, size)\n",
    "#\n",
    "def show_patterns(U, ax=None):\n",
    "    ax.imshow(U, cmap=plt.cm.cividis, extent=[-1,1,-1,1])\n",
    "    ax.set_axis_off()\n",
    "#\n",
    "def laplacian(Z):\n",
    "    return (\n",
    "        - 4 * Z\n",
    "        + np.roll(Z,1,axis=0) \n",
    "        + np.roll(Z,-1,axis=0)\n",
    "        + np.roll(Z,+1,axis=1)\n",
    "        + np.roll(Z,-1,axis=1)\n",
    "    ) / (dx ** 2)\n",
    "#\n",
    "fig, axs = plt.subplots(3,3, figsize=(10,10))\n",
    "step_plot = n//9\n",
    "# Loop through for n iterations\n",
    "for i in range(n):\n",
    "    # Calculate the laplacian of U and V\n",
    "    deltaU = laplacian(U)\n",
    "    deltaV = laplacian(V)\n",
    "    \n",
    "    # dx/dt = (x(t+dt) - x(t))/dt   =>   x(t+dt) = x(t) + dt*(dx/dt)\n",
    "    U = U + dt*(a*deltaU + U - U**3 - V + k)\n",
    "    V = V + dt*(b*deltaV + U - V)/tau\n",
    "    \n",
    "    # Plot\n",
    "    if i % step_plot==0 and i<9*step_plot:\n",
    "        ax = axs.flat[i//step_plot]\n",
    "        show_patterns(U,ax=ax)\n",
    "        ax.set_title(f'$t={i*dt:.2f}$')"
   ]
  },
  {
   "cell_type": "markdown",
   "id": "e6320176-40ad-4c61-b1a3-883f86d42152",
   "metadata": {},
   "source": [
    "To demonstrate the boudary condition, the system at the final time point has been tiled in 2x2 figure below. As you can see, tere is no visible boundaries in the image."
   ]
  },
  {
   "cell_type": "code",
   "execution_count": null,
   "id": "3f0868bd-4e36-4b17-ab7b-c49d2c9c1dd7",
   "metadata": {},
   "outputs": [],
   "source": [
    "plt.figure(figsize = (10,10))\n",
    "plt.imshow(np.tile(U,(2,2)), cmap=plt.cm.cividis)"
   ]
  },
  {
   "cell_type": "markdown",
   "id": "99e6c20e-ee53-4efa-a661-32bc1458d4f1",
   "metadata": {},
   "source": [
    "Now inspecting the V component of the model:"
   ]
  },
  {
   "cell_type": "code",
   "execution_count": null,
   "id": "283f87fa-6e62-4298-97e0-ebc7f84e9ccd",
   "metadata": {},
   "outputs": [],
   "source": [
    "plt.figure(figsize = (10,10))\n",
    "plt.imshow(np.tile(V,(2,2)), cmap=plt.cm.cividis)"
   ]
  },
  {
   "cell_type": "markdown",
   "id": "23f1a8b7-02ee-4629-b280-41850a3d6f83",
   "metadata": {},
   "source": [
    "This componenet is not as intense. This makes sense when as the current component of the [FitzHugh–Nagumo model](https://en.wikipedia.org/wiki/FitzHugh%E2%80%93Nagumo_model#/media/File:Fitzhugh_Nagumo_Phase_Space_Graph.png) is not as big as the voltage component."
   ]
  },
  {
   "cell_type": "code",
   "execution_count": null,
   "id": "311a5bfb-f71e-4b71-ab94-46edb338af4f",
   "metadata": {},
   "outputs": [],
   "source": [
    "import numpy as np\n",
    "from matplotlib import pyplot as plt\n",
    "from matplotlib import animation\n",
    "import ffmpeg\n",
    "\n",
    "\n",
    "# U = np.ones([100,100])\n",
    "# V = np.ones([100,100])\n",
    "size = 50\n",
    "U = np.random.rand(size, size)\n",
    "V = np.random.rand(size, size)\n",
    "\n",
    "# First set up the figure, the axis, and the plot element we want to animate\n",
    "fig = plt.figure(figsize = (5,5))\n",
    "ax = plt.axes(xlim=(0, size*2), ylim=(0, size*2))\n",
    "grid = ax.imshow(np.tile(U,(2,2)), cmap=plt.cm.cividis)\n",
    "dx = 2./size\n",
    "dt = 0.0001\n",
    "\n",
    "a = 2.8e-4\n",
    "b = 5e-3\n",
    "tau = .1\n",
    "k = -.005\n",
    "\n",
    "def laplacian(Z):\n",
    "    return (\n",
    "        - 4 * Z\n",
    "        + np.roll(Z,1,axis=0) \n",
    "        + np.roll(Z,-1,axis=0)\n",
    "        + np.roll(Z,+1,axis=1)\n",
    "        + np.roll(Z,-1,axis=1)\n",
    "    ) / (dx ** 2)\n",
    "\n",
    "\n",
    "# initialization function: plot the background of each frame\n",
    "def init():\n",
    "    grid.set_data(np.tile(U,(2,2)))\n",
    "    return grid,\n",
    "\n",
    "# animation function.  This is called sequentially\n",
    "def animate(i):\n",
    "    global U, V\n",
    "    for loop in range(1000):\n",
    "        deltaU = laplacian(U)\n",
    "        deltaV = laplacian(V)\n",
    "        # dx/dt = (x(t+dt) - x(t))/dt   =>   x(t+dt) = x(t) + dt*(dx/dt)\n",
    "        U = U + dt*(a*deltaU + U - U**3 - V + k)\n",
    "        V = V + dt*(b*deltaV + U - V)/tau\n",
    "    grid.set_data(np.tile(U,(2,2)))\n",
    "    return grid,\n",
    "\n",
    "# call the animator.  blit=True means only re-draw the parts that have changed.\n",
    "anim = animation.FuncAnimation(fig, animate, init_func=init,\n",
    "                               frames=500, interval=1, blit=False)\n",
    "\n",
    "# save the animation as an mp4.  This requires ffmpeg or mencoder to be\n",
    "# installed.  The extra_args ensure that the x264 codec is used, so that\n",
    "# the video can be embedded in html5.  You may need to adjust this for\n",
    "# your system: for more information, see\n",
    "# http://matplotlib.sourceforge.net/api/animation_api.html\n",
    "anim.save('basic_animation.mp4', fps=30, dpi=50,  extra_args=['-vcodec', 'libx264'])\n",
    "\n",
    "plt.show()"
   ]
  },
  {
   "cell_type": "code",
   "execution_count": null,
   "id": "fcfad481-f89a-41f5-8bf8-e3010aced030",
   "metadata": {},
   "outputs": [],
   "source": [
    "from IPython.display import Video\n",
    "\n",
    "Video(\"basic_animation.mp4\")"
   ]
  }
 ],
 "metadata": {
  "kernelspec": {
   "display_name": "Python 3 (ipykernel)",
   "language": "python",
   "name": "python3"
  },
  "language_info": {
   "codemirror_mode": {
    "name": "ipython",
    "version": 3
   },
   "file_extension": ".py",
   "mimetype": "text/x-python",
   "name": "python",
   "nbconvert_exporter": "python",
   "pygments_lexer": "ipython3",
   "version": "3.8.8"
  }
 },
 "nbformat": 4,
 "nbformat_minor": 5
}
