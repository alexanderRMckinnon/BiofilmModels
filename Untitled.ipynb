{
 "cells": [
  {
   "cell_type": "code",
   "execution_count": 1,
   "id": "fa794b4a-4d10-4fdd-b384-58e75a0514a9",
   "metadata": {},
   "outputs": [],
   "source": [
    "import numpy as np\n",
    "from sim_lib import *"
   ]
  },
  {
   "cell_type": "code",
   "execution_count": null,
   "id": "e39274e2-e314-411f-aab6-7b4f804411e5",
   "metadata": {
    "jupyter": {
     "source_hidden": true
    },
    "tags": []
   },
   "outputs": [],
   "source": [
    "sim = OneDimDiffusion()\n",
    "sim.gif_simulation()\n",
    "# sim.get_equation()\n",
    "# sim.line_plot_simulation()\n",
    "# sim.histogram_simulation()"
   ]
  },
  {
   "cell_type": "code",
   "execution_count": null,
   "id": "0467aa98-3fdf-42f4-880f-e4faf5aa600e",
   "metadata": {
    "jupyter": {
     "source_hidden": true
    },
    "tags": []
   },
   "outputs": [],
   "source": [
    "sim = TemporalFitzHuNagReaction()\n",
    "sim.gif_simulation()"
   ]
  },
  {
   "cell_type": "code",
   "execution_count": null,
   "id": "49c53bbc-e65f-401a-92c3-333bfa995cd4",
   "metadata": {
    "jupyter": {
     "source_hidden": true
    },
    "tags": []
   },
   "outputs": [],
   "source": [
    "sim = OneDimFitzHuNagReaction()\n",
    "sim.gif_simulation()"
   ]
  }
 ],
 "metadata": {
  "kernelspec": {
   "display_name": "Python 3 (ipykernel)",
   "language": "python",
   "name": "python3"
  },
  "language_info": {
   "codemirror_mode": {
    "name": "ipython",
    "version": 3
   },
   "file_extension": ".py",
   "mimetype": "text/x-python",
   "name": "python",
   "nbconvert_exporter": "python",
   "pygments_lexer": "ipython3",
   "version": "3.8.8"
  }
 },
 "nbformat": 4,
 "nbformat_minor": 5
}
