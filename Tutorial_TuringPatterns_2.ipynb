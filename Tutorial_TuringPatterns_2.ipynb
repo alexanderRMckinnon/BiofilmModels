{
 "cells": [
  {
   "cell_type": "markdown",
   "id": "e9c0cb37-d357-4771-afe2-07d06d230fdf",
   "metadata": {},
   "source": [
    "This notebook is recreating a [tutorial](http://www.degeneratestate.org/posts/2017/May/05/turing-patterns/) that describes how to solve PDE's, specifically turing PDE's. This method doesn't use sympy or any other function library for DE solving."
   ]
  },
  {
   "cell_type": "markdown",
   "id": "4319e714-63fa-498e-a64d-942c86277512",
   "metadata": {},
   "source": [
    "This tutorial walks through 1D simulation, 2D simulation and model analysis. However, the code provided implements an outdated gif framework. Therefore, I will implement the simulations and use [this tutorial](https://towardsdatascience.com/basics-of-gifs-with-pythons-matplotlib-54dd544b6f30) guidance on a different gif tool.\n",
    "\n",
    "Using gifs to plot simulations is very useful and will make it easier when I am modelling biofilms."
   ]
  },
  {
   "cell_type": "markdown",
   "id": "7a3a83b0-1c60-4962-bd65-b2c251cd7997",
   "metadata": {},
   "source": [
    "- Turing Patterns\n",
    "    - Turing showed that chemical reactions where each reactant has a different diffusion speed can produce interesting spatial patterns.\n",
    "- Reaction Diffusion Equations\n",
    "    - Reactions that very in time and space need to implement partial differential equations (PDE's) to be modelled, and take the form:\n",
    "      \\begin{align}\n",
    "          \\frac{\\partial a(x,t)}{\\partial t} =& D_a\\frac{\\partial^2 a(x,t)}{\\partial x^2} + R_a\\bigg(a(x,t),b(x,t)\\bigg) \\\\\n",
    "          \\frac{\\partial b(x,t)}{\\partial t} =& D_b\\frac{\\partial^2 b(x,t)}{\\partial x^2} + R_b\\bigg(a(x,t),b(x,t)\\bigg) \\\\\n",
    "      \\end{align}\n",
    "- \n"
   ]
  },
  {
   "cell_type": "code",
   "execution_count": null,
   "id": "19e2ad24-a9e2-47fb-9201-cc36e39be8ea",
   "metadata": {},
   "outputs": [],
   "source": [
    "\"\"\"\n",
    "Matplotlib Animation Example\n",
    "\n",
    "author: Jake Vanderplas\n",
    "email: vanderplas@astro.washington.edu\n",
    "website: http://jakevdp.github.com\n",
    "license: BSD\n",
    "Please feel free to use and modify this, but keep the above information. Thanks!\n",
    "\"\"\"\n",
    "\n",
    "import numpy as np\n",
    "from matplotlib import pyplot as plt\n",
    "from matplotlib import animation\n",
    "import ffmpeg\n",
    "\n",
    "\n",
    "\n",
    "width = 1000\n",
    "dx = 10/width\n",
    "D = 1\n",
    "dt = 0.9*(dx**2)/(2*D)\n",
    "\n",
    "x = np.linspace(-5, 5, width)\n",
    "y = np.exp(-x**2)\n",
    "\n",
    "# First set up the figure, the axis, and the plot element we want to animate\n",
    "fig = plt.figure(figsize = (16/2,9/2))\n",
    "ax = plt.axes()\n",
    "line, = ax.plot(x, y, lw=2)\n",
    "\n",
    "def laplacian1D(a, dx):\n",
    "    return (\n",
    "        - 2 * a\n",
    "        + np.roll(a,1,axis=0) \n",
    "        + np.roll(a,-1,axis=0)\n",
    "    ) / (dx ** 2)\n",
    "\n",
    "# initialization function: plot the background of each frame\n",
    "def init():\n",
    "    line.set_data(x, y)\n",
    "    return line,\n",
    "\n",
    "# animation function.  This is called sequentially\n",
    "def animate(i):\n",
    "    global y, x\n",
    "    for iteration in range(1000):\n",
    "        y = y + dt*(laplacian1D(y, dx)*D)\n",
    "    line.set_data(x, y)\n",
    "    return line,\n",
    "\n",
    "# call the animator.  blit=True means only re-draw the parts that have changed.\n",
    "anim = animation.FuncAnimation(fig, animate, init_func=init,\n",
    "                               frames=200, interval=1, blit=False)\n",
    "\n",
    "# save the animation as an mp4.  This requires ffmpeg or mencoder to be\n",
    "# installed.  The extra_args ensure that the x264 codec is used, so that\n",
    "# the video can be embedded in html5.  You may need to adjust this for\n",
    "# your system: for more information, see\n",
    "# http://matplotlib.sourceforge.net/api/animation_api.html\n",
    "anim.save('basic_animation.mp4', fps=30, dpi=100,  extra_args=['-vcodec', 'libx264'])\n",
    "\n",
    "plt.show()"
   ]
  },
  {
   "cell_type": "code",
   "execution_count": null,
   "id": "03958b1f-2b9a-4f34-a887-2fa4ca93f521",
   "metadata": {},
   "outputs": [],
   "source": [
    "from IPython.display import Video\n",
    "\n",
    "Video(\"basic_animation.mp4\")"
   ]
  },
  {
   "cell_type": "code",
   "execution_count": null,
   "id": "a8b8f7d6-ce28-49bd-ba2a-f87a1c3a3138",
   "metadata": {},
   "outputs": [],
   "source": [
    "plt.plot(x,y)"
   ]
  },
  {
   "cell_type": "code",
   "execution_count": null,
   "id": "c734c8cc-1a72-4504-99e0-4aaef1752c10",
   "metadata": {},
   "outputs": [],
   "source": [
    "dx"
   ]
  },
  {
   "cell_type": "code",
   "execution_count": null,
   "id": "aa2b99dd-6595-49af-b0c0-c427bde2da87",
   "metadata": {},
   "outputs": [],
   "source": [
    "\"\"\"\n",
    "Some utility functions for blog post on Turing Patterns.\n",
    "\"\"\"\n",
    "\n",
    "import matplotlib.pyplot as plt\n",
    "from matplotlib import animation\n",
    "import numpy as np\n",
    "\n",
    "class BaseStateSystem:\n",
    "    \"\"\"\n",
    "    Base object for \"State System\".\n",
    "    We are going to repeatedly visualise systems which are Markovian:\n",
    "    the have a \"state\", the state evolves in discrete steps, and the next\n",
    "    state only depends on the previous state.\n",
    "    To make things simple, I'm going to use this class as an interface.\n",
    "    \"\"\"\n",
    "    def __init__(self):\n",
    "        raise NotImplementedError()\n",
    "\n",
    "    def initialise(self):\n",
    "        raise NotImplementedError()\n",
    "\n",
    "    def initialise_figure(self):\n",
    "        fig, ax = plt.subplots()\n",
    "        return fig, ax\n",
    "\n",
    "    def update(self):\n",
    "        raise NotImplementedError()\n",
    "\n",
    "    def draw(self, ax):\n",
    "        raise NotImplementedError()\n",
    "\n",
    "    def plot_time_evolution(self, filename, n_steps=30):\n",
    "        \"\"\"\n",
    "        Creates a gif from the time evolution of a basic state syste.\n",
    "        \"\"\"\n",
    "        self.initialise()\n",
    "        fig, ax = self.initialise_figure()\n",
    "\n",
    "        def step(t):\n",
    "            self.update()\n",
    "            self.draw(ax)\n",
    "\n",
    "        anim = animation.FuncAnimation(fig, step, frames=np.arange(n_steps), interval=20)\n",
    "        anim.save(filename=filename, dpi=60, fps=10, writer='imagemagick')\n",
    "        plt.close()\n",
    "        \n",
    "    def plot_evolution_outcome(self, filename, n_steps):\n",
    "        \"\"\"\n",
    "        Evolves and save the outcome of evolving the system for n_steps\n",
    "        \"\"\"\n",
    "        self.initialise()\n",
    "        fig, ax = self.initialise_figure()\n",
    "        \n",
    "        for _ in range(n_steps):\n",
    "            self.update()\n",
    "\n",
    "        self.draw(ax)\n",
    "        fig.savefig(filename)\n",
    "        plt.close()"
   ]
  },
  {
   "cell_type": "code",
   "execution_count": null,
   "id": "9ce0c022-e019-48b2-a47d-09e20b060ee9",
   "metadata": {
    "jupyter": {
     "source_hidden": true
    },
    "tags": []
   },
   "outputs": [],
   "source": [
    "import matplotlib.pyplot as plt\n",
    "import numpy as np\n",
    "\n",
    "# I'm using seaborn for it's fantastic default styles\n",
    "import seaborn as sns\n",
    "sns.set_style(\"whitegrid\")\n",
    "\n",
    "%matplotlib inline\n",
    "%load_ext autoreload\n",
    "%autoreload 2\n"
   ]
  },
  {
   "cell_type": "code",
   "execution_count": null,
   "id": "445c8f89-4fbd-46e4-85bb-4ca812f47876",
   "metadata": {
    "jupyter": {
     "source_hidden": true
    },
    "tags": []
   },
   "outputs": [],
   "source": [
    "def laplacian1D(a, dx):\n",
    "    return (\n",
    "        - 2 * a\n",
    "        + np.roll(a,1,axis=0) \n",
    "        + np.roll(a,-1,axis=0)\n",
    "    ) / (dx ** 2)\n",
    "\n",
    "def laplacian2D(a, dx):\n",
    "    return (\n",
    "        - 4 * a\n",
    "        + np.roll(a,1,axis=0) \n",
    "        + np.roll(a,-1,axis=0)\n",
    "        + np.roll(a,+1,axis=1)\n",
    "        + np.roll(a,-1,axis=1)\n",
    "    ) / (dx ** 2)"
   ]
  },
  {
   "cell_type": "code",
   "execution_count": null,
   "id": "e84fdc1e-35f8-4cae-8f74-79c1b0b16ed7",
   "metadata": {},
   "outputs": [],
   "source": [
    "class OneDimensionalDiffusionEquation(BaseStateSystem):\n",
    "    def __init__(self, D):\n",
    "        self.D = D\n",
    "        self.width = 1000\n",
    "        self.dx = 10 / self.width\n",
    "        self.dt = 0.9 * (self.dx ** 2) / (2 * D)\n",
    "        self.steps = int(0.1 / self.dt)\n",
    "        \n",
    "    def initialise(self):\n",
    "        self.t = 0\n",
    "        self.X = np.linspace(-5,5,self.width)\n",
    "        self.a = np.exp(-self.X**2)\n",
    "        \n",
    "    def update(self):\n",
    "        for _ in range(self.steps):\n",
    "            self.t += self.dt\n",
    "            self._update()\n",
    "\n",
    "    def _update(self):      \n",
    "        La = laplacian1D(self.a, self.dx)\n",
    "        delta_a = self.dt * (self.D * La)       \n",
    "        self.a += delta_a\n",
    "        \n",
    "    def draw(self, ax):\n",
    "        ax.clear()\n",
    "        ax.plot(self.X,self.a, color=\"r\")\n",
    "        ax.set_ylim(0,1)\n",
    "        ax.set_xlim(-5,5)\n",
    "        ax.set_title(\"t = {:.2f}\".format(self.t))\n",
    "    \n",
    "one_d_diffusion = OneDimensionalDiffusionEquation(D=1)\n",
    "\n",
    "one_d_diffusion.plot_time_evolution(\"diffusion.gif\")"
   ]
  },
  {
   "cell_type": "code",
   "execution_count": null,
   "id": "68fda099-4c0d-43d0-970e-b635569bfc67",
   "metadata": {},
   "outputs": [],
   "source": [
    "from IPython.display import Image\n",
    "with open('diffusion.gif','rb') as file:\n",
    "    display(Image(file.read()))"
   ]
  },
  {
   "cell_type": "code",
   "execution_count": null,
   "id": "8bb1cd10-d036-4b27-9f1d-eeb1b97fc04b",
   "metadata": {},
   "outputs": [],
   "source": [
    "print(1_000_000)"
   ]
  },
  {
   "cell_type": "code",
   "execution_count": null,
   "id": "568a8495-cfe5-4444-9a36-0b7c8623a357",
   "metadata": {},
   "outputs": [],
   "source": []
  }
 ],
 "metadata": {
  "kernelspec": {
   "display_name": "Python 3 (ipykernel)",
   "language": "python",
   "name": "python3"
  },
  "language_info": {
   "codemirror_mode": {
    "name": "ipython",
    "version": 3
   },
   "file_extension": ".py",
   "mimetype": "text/x-python",
   "name": "python",
   "nbconvert_exporter": "python",
   "pygments_lexer": "ipython3",
   "version": "3.8.8"
  }
 },
 "nbformat": 4,
 "nbformat_minor": 5
}
